{
 "cells": [
  {
   "cell_type": "code",
   "execution_count": 1,
   "metadata": {},
   "outputs": [
    {
     "name": "stderr",
     "output_type": "stream",
     "text": [
      "DEBUG:root:logging msg\n"
     ]
    }
   ],
   "source": [
    "import logging\n",
    "logging.basicConfig(level=logging.DEBUG)\n",
    "logging.debug(\"logging msg\")\n"
   ]
  },
  {
   "cell_type": "code",
   "execution_count": 2,
   "metadata": {},
   "outputs": [
    {
     "name": "stderr",
     "output_type": "stream",
     "text": [
      "DEBUG:root:logging msg\n"
     ]
    }
   ],
   "source": [
    "import logging\n",
    "logging.basicConfig(level=logging.DEBUG, format=\"'%(asctime)s - %(message)s'\")\n",
    "logging.debug(\"logging msg\")"
   ]
  },
  {
   "cell_type": "code",
   "execution_count": 3,
   "metadata": {},
   "outputs": [
    {
     "name": "stderr",
     "output_type": "stream",
     "text": [
      "DEBUG:root:디버그\n",
      "INFO:root:정보\n",
      "WARNING:root:경고\n",
      "ERROR:root:오류\n",
      "CRITICAL:root:심각\n"
     ]
    }
   ],
   "source": [
    "logging.debug(\"디버그\")\n",
    "logging.info(\"정보\")\n",
    "logging.warning(\"경고\")\n",
    "logging.error(\"오류\")\n",
    "logging.critical(\"심각\")"
   ]
  },
  {
   "cell_type": "code",
   "execution_count": null,
   "metadata": {},
   "outputs": [],
   "source": []
  },
  {
   "cell_type": "code",
   "execution_count": 3,
   "metadata": {},
   "outputs": [
    {
     "name": "stderr",
     "output_type": "stream",
     "text": [
      "11/21/2021 12:56:13 PM - DEBUG - my_logger : 디버그\n",
      "11/21/2021 12:56:13 PM - DEBUG - my_logger : 디버그\n",
      "11/21/2021 12:56:13 PM - DEBUG - my_logger : 디버그\n",
      "11/21/2021 12:56:13 PM - INFO - my_logger : 정보\n",
      "11/21/2021 12:56:13 PM - INFO - my_logger : 정보\n",
      "11/21/2021 12:56:13 PM - INFO - my_logger : 정보\n",
      "11/21/2021 12:56:13 PM - WARNING - my_logger : 경고\n",
      "11/21/2021 12:56:13 PM - WARNING - my_logger : 경고\n",
      "11/21/2021 12:56:13 PM - WARNING - my_logger : 경고\n",
      "11/21/2021 12:56:13 PM - ERROR - my_logger : 오류\n",
      "11/21/2021 12:56:13 PM - ERROR - my_logger : 오류\n",
      "11/21/2021 12:56:13 PM - ERROR - my_logger : 오류\n",
      "11/21/2021 12:56:13 PM - CRITICAL - my_logger : 심각\n",
      "11/21/2021 12:56:13 PM - CRITICAL - my_logger : 심각\n",
      "11/21/2021 12:56:13 PM - CRITICAL - my_logger : 심각\n",
      "11/21/2021 12:56:13 PM - DEBUG - my_logger : 디버그\n",
      "11/21/2021 12:56:13 PM - DEBUG - my_logger : 디버그\n",
      "11/21/2021 12:56:13 PM - DEBUG - my_logger : 디버그\n",
      "11/21/2021 12:56:13 PM - INFO - my_logger : 정보\n",
      "11/21/2021 12:56:13 PM - INFO - my_logger : 정보\n",
      "11/21/2021 12:56:13 PM - INFO - my_logger : 정보\n",
      "11/21/2021 12:56:13 PM - WARNING - my_logger : 경고\n",
      "11/21/2021 12:56:13 PM - WARNING - my_logger : 경고\n",
      "11/21/2021 12:56:13 PM - WARNING - my_logger : 경고\n",
      "11/21/2021 12:56:13 PM - ERROR - my_logger : 오류\n",
      "11/21/2021 12:56:13 PM - ERROR - my_logger : 오류\n",
      "11/21/2021 12:56:13 PM - ERROR - my_logger : 오류\n",
      "11/21/2021 12:56:13 PM - CRITICAL - my_logger : 심각\n",
      "11/21/2021 12:56:13 PM - CRITICAL - my_logger : 심각\n",
      "11/21/2021 12:56:13 PM - CRITICAL - my_logger : 심각\n"
     ]
    }
   ],
   "source": []
  },
  {
   "cell_type": "markdown",
   "metadata": {},
   "source": []
  }
 ],
 "metadata": {
  "interpreter": {
   "hash": "bfcbbbf9645dc222b693a31e0dab01e873b35118b459d171f3187c8d8f3fd8b2"
  },
  "kernelspec": {
   "display_name": "Python 3.9.5 64-bit ('.venv': venv)",
   "language": "python",
   "name": "python3"
  },
  "language_info": {
   "codemirror_mode": {
    "name": "ipython",
    "version": 3
   },
   "file_extension": ".py",
   "mimetype": "text/x-python",
   "name": "python",
   "nbconvert_exporter": "python",
   "pygments_lexer": "ipython3",
   "version": "3.9.5"
  },
  "orig_nbformat": 4
 },
 "nbformat": 4,
 "nbformat_minor": 2
}
