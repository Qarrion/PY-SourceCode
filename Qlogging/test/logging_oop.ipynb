{
 "cells": [
  {
   "cell_type": "markdown",
   "metadata": {},
   "source": [
    "# 로깅 OOP"
   ]
  },
  {
   "cell_type": "code",
   "execution_count": 1,
   "metadata": {},
   "outputs": [
    {
     "name": "stderr",
     "output_type": "stream",
     "text": [
      "DEBUG:root:logging msg\n"
     ]
    }
   ],
   "source": [
    "import logging\n",
    "\n",
    "MY_FORMAT    = \"%(levelname)s:%(name)s:%(message)s\"\n",
    "\n",
    "my_logger    = logging.getLogger()\n",
    "_formatter   = logging.Formatter(MY_FORMAT)\n",
    "_handler     = logging.StreamHandler()\n",
    "\n",
    "_handler.setFormatter(_formatter)\n",
    "my_logger.addHandler(_handler)\n",
    "my_logger.setLevel(logging.DEBUG)\n",
    "\n",
    "my_logger.debug(\"logging msg\")\n"
   ]
  },
  {
   "cell_type": "code",
   "execution_count": 3,
   "metadata": {},
   "outputs": [
    {
     "name": "stderr",
     "output_type": "stream",
     "text": [
      "DEBUG:root:logging msg 2\n",
      "'2021-11-21 12:36:03,698 - logging msg 2'\n",
      "'2021-11-21 12:36:03,698 - logging msg 2'\n"
     ]
    }
   ],
   "source": [
    "import logging\n",
    "\n",
    "MY_FORMAT_02    = \"'%(asctime)s - %(message)s'\"\n",
    "\n",
    "my_logger_02     = logging.getLogger()\n",
    "_formatter_02   = logging.Formatter(MY_FORMAT_02)\n",
    "_handler_02     = logging.StreamHandler()\n",
    "_handler_02.setFormatter(_formatter_02)\n",
    "my_logger_02.addHandler(_handler_02)\n",
    "my_logger_02.setLevel(logging.DEBUG)\n",
    "\n",
    "my_logger.debug(\"logging msg 2\")"
   ]
  },
  {
   "cell_type": "code",
   "execution_count": 3,
   "metadata": {},
   "outputs": [
    {
     "name": "stderr",
     "output_type": "stream",
     "text": [
      "DEBUG:root:디버그\n",
      "INFO:root:정보\n",
      "WARNING:root:경고\n",
      "ERROR:root:오류\n",
      "CRITICAL:root:심각\n"
     ]
    }
   ],
   "source": [
    "logging.debug(\"디버그\")\n",
    "logging.info(\"정보\")\n",
    "logging.warning(\"경고\")\n",
    "logging.error(\"오류\")\n",
    "logging.critical(\"심각\")"
   ]
  },
  {
   "cell_type": "code",
   "execution_count": null,
   "metadata": {},
   "outputs": [],
   "source": []
  }
 ],
 "metadata": {
  "interpreter": {
   "hash": "bfcbbbf9645dc222b693a31e0dab01e873b35118b459d171f3187c8d8f3fd8b2"
  },
  "kernelspec": {
   "display_name": "Python 3.9.5 64-bit ('.venv': venv)",
   "language": "python",
   "name": "python3"
  },
  "language_info": {
   "codemirror_mode": {
    "name": "ipython",
    "version": 3
   },
   "file_extension": ".py",
   "mimetype": "text/x-python",
   "name": "python",
   "nbconvert_exporter": "python",
   "pygments_lexer": "ipython3",
   "version": "3.9.5"
  },
  "orig_nbformat": 4
 },
 "nbformat": 4,
 "nbformat_minor": 2
}
