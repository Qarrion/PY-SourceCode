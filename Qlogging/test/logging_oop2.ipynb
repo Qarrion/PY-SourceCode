{
 "cells": [
  {
   "cell_type": "markdown",
   "metadata": {},
   "source": [
    "# 로깅 OOP"
   ]
  },
  {
   "cell_type": "code",
   "execution_count": 1,
   "metadata": {},
   "outputs": [],
   "source": [
    "import logging\n",
    "class MyLogger:\n",
    "    def mylogger_stream(self):\n",
    "        # create looger\n",
    "        logger = logging.getLogger(\"my_logger\")\n",
    "        logger.setLevel(logging.DEBUG)\n",
    "        # create console handler or file hanflder and set the log level\n",
    "        ch = logging.StreamHandler()\n",
    "        # create formatter - how you want your logs to be formatted\n",
    "        fm_st = logging.Formatter('%(asctime)s - %(levelname)s - %(name)s : %(message)s')\n",
    "        # add formatter to colsole or file handler\n",
    "        ch.setFormatter(fm_st)\n",
    "        # add console handler to logger\n",
    "        logger.addHandler(ch)\n",
    "        # application code - log msg\n",
    "        logger.debug(\"디버그\")\n",
    "        logger.info(\"정보\")\n",
    "        logger.warning(\"경고\")\n",
    "        logger.error(\"오류\")\n",
    "        logger.critical(\"심각\")\n",
    "\n",
    "    def mylogger_file(self):\n",
    "        # create looger\n",
    "        logger = logging.getLogger(\"my_logger\")\n",
    "        logger.setLevel(logging.DEBUG)\n",
    "        # create console handler or file hanflder and set the log level\n",
    "        fh = logging.FileHandler(\"filelog.log\")\n",
    "        # create formatter - how you want your logs to be formatted\n",
    "        fm_fh = logging.Formatter('%(asctime)s - %(levelname)s - %(name)s : %(message)s')\n",
    "        # add formatter to colsole or file handler\n",
    "        fh.setFormatter(fm_fh)\n",
    "        # add console handler to logger\n",
    "        logger.addHandler(fh)\n",
    "        # application code - log msg\n",
    "        logger.debug(\"디버그\")\n",
    "        logger.info(\"정보\")\n",
    "        logger.warning(\"경고\")\n",
    "        logger.error(\"오류\")\n",
    "        logger.critical(\"심각\")\n",
    "\n",
    "mylog = MyLogger()\n"
   ]
  },
  {
   "cell_type": "code",
   "execution_count": 5,
   "metadata": {},
   "outputs": [
    {
     "name": "stderr",
     "output_type": "stream",
     "text": [
      "2021-11-21 13:21:52,831 - DEBUG - my_logger : 디버그\n",
      "2021-11-21 13:21:52,831 - DEBUG - my_logger : 디버그\n",
      "2021-11-21 13:21:52,831 - DEBUG - my_logger : 디버그\n",
      "2021-11-21 13:21:52,832 - INFO - my_logger : 정보\n",
      "2021-11-21 13:21:52,832 - INFO - my_logger : 정보\n",
      "2021-11-21 13:21:52,832 - INFO - my_logger : 정보\n",
      "2021-11-21 13:21:52,833 - WARNING - my_logger : 경고\n",
      "2021-11-21 13:21:52,833 - WARNING - my_logger : 경고\n",
      "2021-11-21 13:21:52,833 - WARNING - my_logger : 경고\n",
      "2021-11-21 13:21:52,833 - ERROR - my_logger : 오류\n",
      "2021-11-21 13:21:52,833 - ERROR - my_logger : 오류\n",
      "2021-11-21 13:21:52,833 - ERROR - my_logger : 오류\n",
      "2021-11-21 13:21:52,834 - CRITICAL - my_logger : 심각\n",
      "2021-11-21 13:21:52,834 - CRITICAL - my_logger : 심각\n",
      "2021-11-21 13:21:52,834 - CRITICAL - my_logger : 심각\n"
     ]
    }
   ],
   "source": [
    "mylog.mylogger_stream()\n"
   ]
  },
  {
   "cell_type": "code",
   "execution_count": 6,
   "metadata": {},
   "outputs": [
    {
     "name": "stderr",
     "output_type": "stream",
     "text": [
      "2021-11-21 13:22:12,746 - DEBUG - my_logger : 디버그\n",
      "2021-11-21 13:22:12,746 - DEBUG - my_logger : 디버그\n",
      "2021-11-21 13:22:12,746 - DEBUG - my_logger : 디버그\n",
      "2021-11-21 13:22:12,747 - INFO - my_logger : 정보\n",
      "2021-11-21 13:22:12,747 - INFO - my_logger : 정보\n",
      "2021-11-21 13:22:12,747 - INFO - my_logger : 정보\n",
      "2021-11-21 13:22:12,747 - WARNING - my_logger : 경고\n",
      "2021-11-21 13:22:12,747 - WARNING - my_logger : 경고\n",
      "2021-11-21 13:22:12,747 - WARNING - my_logger : 경고\n",
      "2021-11-21 13:22:12,748 - ERROR - my_logger : 오류\n",
      "2021-11-21 13:22:12,748 - ERROR - my_logger : 오류\n",
      "2021-11-21 13:22:12,748 - ERROR - my_logger : 오류\n",
      "2021-11-21 13:22:12,749 - CRITICAL - my_logger : 심각\n",
      "2021-11-21 13:22:12,749 - CRITICAL - my_logger : 심각\n",
      "2021-11-21 13:22:12,749 - CRITICAL - my_logger : 심각\n"
     ]
    }
   ],
   "source": [
    "mylog.mylogger_file()"
   ]
  },
  {
   "cell_type": "code",
   "execution_count": null,
   "metadata": {},
   "outputs": [],
   "source": []
  }
 ],
 "metadata": {
  "interpreter": {
   "hash": "bfcbbbf9645dc222b693a31e0dab01e873b35118b459d171f3187c8d8f3fd8b2"
  },
  "kernelspec": {
   "display_name": "Python 3.9.5 64-bit ('.venv': venv)",
   "language": "python",
   "name": "python3"
  },
  "language_info": {
   "codemirror_mode": {
    "name": "ipython",
    "version": 3
   },
   "file_extension": ".py",
   "mimetype": "text/x-python",
   "name": "python",
   "nbconvert_exporter": "python",
   "pygments_lexer": "ipython3",
   "version": "3.9.5"
  },
  "orig_nbformat": 4
 },
 "nbformat": 4,
 "nbformat_minor": 2
}
